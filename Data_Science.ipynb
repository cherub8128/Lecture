{
 "metadata": {
  "language_info": {
   "codemirror_mode": {
    "name": "ipython",
    "version": 3
   },
   "file_extension": ".py",
   "mimetype": "text/x-python",
   "name": "python",
   "nbconvert_exporter": "python",
   "pygments_lexer": "ipython3",
   "version": "3.9.5"
  },
  "orig_nbformat": 2,
  "kernelspec": {
   "name": "python395jvsc74a57bd0ca585555a2867b459a38eaf8b2b47956aef7a6f770e52f1f5dfa1f8f05e57688",
   "display_name": "Python 3.9.5 64-bit"
  },
  "metadata": {
   "interpreter": {
    "hash": "ca585555a2867b459a38eaf8b2b47956aef7a6f770e52f1f5dfa1f8f05e57688"
   }
  }
 },
 "nbformat": 4,
 "nbformat_minor": 2,
 "cells": [
  {
   "cell_type": "markdown",
   "source": [
    "참고자료: \n",
    "하시모토 히로시/마키노 코오지, 2020, 『데이터 사이언스 교과서』 , 성안당.\n",
    "\n",
    "# 0. 들어가기 전에\n",
    "## 0.1. 책 속에서\n",
    "> 1. 많은 대학원생처럼 나도 방대한 데이터베이스를 구축하고서 컴퓨터 단추 하나만 누르면 일반적인 통계 분석을 수행할 수 있었다. 그러나 그 통계 분석이 어떻게 작동하는지를 깊이 살펴보는 법, 아니 살펴보는 법 자체를 결코 배운 적이 없었다. 그 통계 프로그램은 〈통계적으로 유의미하다〉고 간주하는 숫자를 달랑 하나 내뱉었을 뿐이었다. 불행히도 그 분석 결과는 거짓 긍정임이 거의 확실했다. 그 통계 검정이 내가 적용한 맥락에서 어떤 한계를 지니는지를 스스로 이해하지 못했기 때문이다. \n",
    "> 2. 워싱턴 대학교에는 〈헛소리 판별하기Calling Bullshit〉라는 강좌가 있다(정식 강좌명은 INFO 198/BIOL 106B). \n",
    "\n",
    "> (데이비드 엡스타인, 2020, 『늦깎이 천재들의 비밀』, 열린책들, p47/p261)\n",
    "\n",
    "## 0.2. 생각해보기\n",
    "\n",
    "- 전세계에서 대략 100만건의 과학기술 논문이 나옴. 과학은 가치 중립적인가? 예) 밀양 송전탑, 사드의 인체 유해성. 코로나 백신은 위험한가? 등등\n",
    "- 과학 연구자의 윤리(흔히 벌어지는 광경: 실험 데이터 끼워 맞추기, 자의적 결론 해석 등)\n",
    "- 메커니즘이나 모델이 불분명한 경우가 많고 이때 의미있는 데이터를 추출해 데이터 분석을 함.\n",
    "- 데이터 분석은 언제나 있어왔으며, 확률론에 기반한 통계가 활용됨. \n",
    "- 즉, 빅데이터 기술이란 더 큰 데이터풀에서 유익한 데이터를 추출하는 기술.\n",
    "- 유익한 데이터를 추출할 수 있는 안목이 필요. 자의적이기 때문에 왜곡 가능성도 크다.\n",
    "\n",
    "# 1. 파이썬을 활용한 데이터 분석\n",
    "\n",
    "## 1.1. 사용하는 라이브러리\n",
    "\n",
    "- numpy : 수치, 행렬 계산. https://numpy.org/doc/stable/reference/index.html\n",
    "- scipy : 각종 함수, 변수, 공식 계산.\n",
    "- matplotlib.pyplot : 그래프 그리기. https://matplotlib.org/stable/api/index.html\n",
    "- pandas : 데이터 분석용. 엑셀과 유사한 기능."
   ],
   "metadata": {}
  },
  {
   "cell_type": "code",
   "execution_count": 2,
   "source": [
    "#matplotlib에 한글 폰트 적용하기\r\n",
    "import matplotlib\r\n",
    "#font_list = fm.findSystemFonts(fontpaths=None, fontext ='ttf')\r\n",
    "#for i in range(200) : print(i,':', font_list[i])\r\n",
    "matplotlib.rcParams['font.family'] = 'KoPubWorldDotum'\r\n",
    "\r\n",
    "#OUTPUT 여러개 띄우기\r\n",
    "from IPython.core.interactiveshell import InteractiveShell\r\n",
    "InteractiveShell.ast_node_interactivity = \"all\""
   ],
   "outputs": [],
   "metadata": {}
  },
  {
   "cell_type": "code",
   "execution_count": 3,
   "source": [
    "#그래프 그리기 예시\r\n",
    "import numpy as np          #np라는 이름으로 numpy 라이브러리 불러옴.\r\n",
    "import matplotlib.pyplot as plt    #plt라는 이름으로 matplotlib의 pyplot 라이브러리 불러옴.\r\n",
    "x = np.linspace(-4,4,40)    #등차수열로 -4에서 4까지 40등분한 배열.(-4, -3.8, -3.6, ... , 0, 3.8, 4)\r\n",
    "y1 = x ** 2                 #배열 값마다 x^2 계산\r\n",
    "y2 = np.sin(x)              #배열 값마다 sin(x) 계산\r\n",
    "y3 = x\r\n",
    "y4 = np.cos(x)\r\n",
    "\r\n",
    "#그래프 생성\r\n",
    "fig = plt.subplots(figsize=(5,3))  #사이즈를 10인치*5인치로 그래프그리는 공간 생성\r\n",
    "plt.plot(x,y1)  #(x, y1) 점별로 그려서 잇기\r\n",
    "plt.plot(x,y2)  #(x, y2) 점별로 그려서 잇기\r\n",
    "\r\n",
    "plt.grid()      #그리드 그리기\r\n",
    "plt.xlabel('x') #x축을 라벨을 x로 붙여서 그리기\r\n",
    "plt.ylabel('y') #y축을 라벨을 y로 붙여서 그리기\r\n",
    "plt.title('테스트') #제목 붙이기\r\n",
    "\r\n",
    "#그래프 따로 그리기\r\n",
    "fig, axs = plt.subplots(nrows=2,ncols=2,figsize=(5,3)) #2행 2열로 그리기\r\n",
    "axs[0,0].plot(x,y1)\r\n",
    "axs[0,1].plot(x,y2)\r\n",
    "axs[1,0].plot(x,y3)\r\n",
    "axs[1,1].plot(x,y4)\r\n",
    "'''\r\n",
    "(0,0) (0,1)\r\n",
    "(1,0) (1,1)\r\n",
    "'''"
   ],
   "outputs": [
    {
     "output_type": "execute_result",
     "data": {
      "text/plain": [
       "[<matplotlib.lines.Line2D at 0x1d40b3c23a0>]"
      ]
     },
     "metadata": {},
     "execution_count": 3
    },
    {
     "output_type": "execute_result",
     "data": {
      "text/plain": [
       "[<matplotlib.lines.Line2D at 0x1d40b3c2e80>]"
      ]
     },
     "metadata": {},
     "execution_count": 3
    },
    {
     "output_type": "execute_result",
     "data": {
      "text/plain": [
       "Text(0.5, 0, 'x')"
      ]
     },
     "metadata": {},
     "execution_count": 3
    },
    {
     "output_type": "execute_result",
     "data": {
      "text/plain": [
       "Text(0, 0.5, 'y')"
      ]
     },
     "metadata": {},
     "execution_count": 3
    },
    {
     "output_type": "execute_result",
     "data": {
      "text/plain": [
       "Text(0.5, 1.0, '테스트')"
      ]
     },
     "metadata": {},
     "execution_count": 3
    },
    {
     "output_type": "execute_result",
     "data": {
      "text/plain": [
       "[<matplotlib.lines.Line2D at 0x1d42e1199d0>]"
      ]
     },
     "metadata": {},
     "execution_count": 3
    },
    {
     "output_type": "execute_result",
     "data": {
      "text/plain": [
       "[<matplotlib.lines.Line2D at 0x1d42e119d00>]"
      ]
     },
     "metadata": {},
     "execution_count": 3
    },
    {
     "output_type": "execute_result",
     "data": {
      "text/plain": [
       "[<matplotlib.lines.Line2D at 0x1d42e129190>]"
      ]
     },
     "metadata": {},
     "execution_count": 3
    },
    {
     "output_type": "execute_result",
     "data": {
      "text/plain": [
       "[<matplotlib.lines.Line2D at 0x1d42e129520>]"
      ]
     },
     "metadata": {},
     "execution_count": 3
    },
    {
     "output_type": "execute_result",
     "data": {
      "text/plain": [
       "'\\n(0,0) (0,1)\\n(1,0) (1,1)\\n'"
      ]
     },
     "metadata": {},
     "execution_count": 3
    },
    {
     "output_type": "display_data",
     "data": {
      "text/plain": [
       "<Figure size 360x216 with 1 Axes>"
      ],
      "image/png": "[encoded data removed]"
     },
     "metadata": {
      "needs_background": "light"
     }
    },
    {
     "output_type": "display_data",
     "data": {
      "text/plain": [
       "<Figure size 360x216 with 4 Axes>"
      ],
      "image/png": "[encoded data removed]"
     },
     "metadata": {
      "needs_background": "light"
     }
    }
   ],
   "metadata": {}
  },
  {
   "cell_type": "code",
   "execution_count": 4,
   "source": [
    "import pandas as pd #pandas를 pd로 불러오기\r\n",
    "df = pd.read_csv('train.csv') #csv파일 불러오기\r\n",
    "df.head(6) #표 그리기(앞의 n개 데이터만, 기본값=5개)"
   ],
   "outputs": [
    {
     "output_type": "execute_result",
     "data": {
      "text/plain": [
       "   PassengerId  Survived  Pclass  \\\n",
       "0            1         0       3   \n",
       "1            2         1       1   \n",
       "2            3         1       3   \n",
       "3            4         1       1   \n",
       "4            5         0       3   \n",
       "5            6         0       3   \n",
       "\n",
       "                                                Name     Sex   Age  SibSp  \\\n",
       "0                            Braund, Mr. Owen Harris    male  22.0      1   \n",
       "1  Cumings, Mrs. John Bradley (Florence Briggs Th...  female  38.0      1   \n",
       "2                             Heikkinen, Miss. Laina  female  26.0      0   \n",
       "3       Futrelle, Mrs. Jacques Heath (Lily May Peel)  female  35.0      1   \n",
       "4                           Allen, Mr. William Henry    male  35.0      0   \n",
       "5                                   Moran, Mr. James    male   NaN      0   \n",
       "\n",
       "   Parch            Ticket     Fare Cabin Embarked  \n",
       "0      0         A/5 21171   7.2500   NaN        S  \n",
       "1      0          PC 17599  71.2833   C85        C  \n",
       "2      0  STON/O2. 3101282   7.9250   NaN        S  \n",
       "3      0            113803  53.1000  C123        S  \n",
       "4      0            373450   8.0500   NaN        S  \n",
       "5      0            330877   8.4583   NaN        Q  "
      ],
      "text/html": [
       "<div>\n",
       "<style scoped>\n",
       "    .dataframe tbody tr th:only-of-type {\n",
       "        vertical-align: middle;\n",
       "    }\n",
       "\n",
       "    .dataframe tbody tr th {\n",
       "        vertical-align: top;\n",
       "    }\n",
       "\n",
       "    .dataframe thead th {\n",
       "        text-align: right;\n",
       "    }\n",
       "</style>\n",
       "<table border=\"1\" class=\"dataframe\">\n",
       "  <thead>\n",
       "    <tr style=\"text-align: right;\">\n",
       "      <th></th>\n",
       "      <th>PassengerId</th>\n",
       "      <th>Survived</th>\n",
       "      <th>Pclass</th>\n",
       "      <th>Name</th>\n",
       "      <th>Sex</th>\n",
       "      <th>Age</th>\n",
       "      <th>SibSp</th>\n",
       "      <th>Parch</th>\n",
       "      <th>Ticket</th>\n",
       "      <th>Fare</th>\n",
       "      <th>Cabin</th>\n",
       "      <th>Embarked</th>\n",
       "    </tr>\n",
       "  </thead>\n",
       "  <tbody>\n",
       "    <tr>\n",
       "      <th>0</th>\n",
       "      <td>1</td>\n",
       "      <td>0</td>\n",
       "      <td>3</td>\n",
       "      <td>Braund, Mr. Owen Harris</td>\n",
       "      <td>male</td>\n",
       "      <td>22.0</td>\n",
       "      <td>1</td>\n",
       "      <td>0</td>\n",
       "      <td>A/5 21171</td>\n",
       "      <td>7.2500</td>\n",
       "      <td>NaN</td>\n",
       "      <td>S</td>\n",
       "    </tr>\n",
       "    <tr>\n",
       "      <th>1</th>\n",
       "      <td>2</td>\n",
       "      <td>1</td>\n",
       "      <td>1</td>\n",
       "      <td>Cumings, Mrs. John Bradley (Florence Briggs Th...</td>\n",
       "      <td>female</td>\n",
       "      <td>38.0</td>\n",
       "      <td>1</td>\n",
       "      <td>0</td>\n",
       "      <td>PC 17599</td>\n",
       "      <td>71.2833</td>\n",
       "      <td>C85</td>\n",
       "      <td>C</td>\n",
       "    </tr>\n",
       "    <tr>\n",
       "      <th>2</th>\n",
       "      <td>3</td>\n",
       "      <td>1</td>\n",
       "      <td>3</td>\n",
       "      <td>Heikkinen, Miss. Laina</td>\n",
       "      <td>female</td>\n",
       "      <td>26.0</td>\n",
       "      <td>0</td>\n",
       "      <td>0</td>\n",
       "      <td>STON/O2. 3101282</td>\n",
       "      <td>7.9250</td>\n",
       "      <td>NaN</td>\n",
       "      <td>S</td>\n",
       "    </tr>\n",
       "    <tr>\n",
       "      <th>3</th>\n",
       "      <td>4</td>\n",
       "      <td>1</td>\n",
       "      <td>1</td>\n",
       "      <td>Futrelle, Mrs. Jacques Heath (Lily May Peel)</td>\n",
       "      <td>female</td>\n",
       "      <td>35.0</td>\n",
       "      <td>1</td>\n",
       "      <td>0</td>\n",
       "      <td>113803</td>\n",
       "      <td>53.1000</td>\n",
       "      <td>C123</td>\n",
       "      <td>S</td>\n",
       "    </tr>\n",
       "    <tr>\n",
       "      <th>4</th>\n",
       "      <td>5</td>\n",
       "      <td>0</td>\n",
       "      <td>3</td>\n",
       "      <td>Allen, Mr. William Henry</td>\n",
       "      <td>male</td>\n",
       "      <td>35.0</td>\n",
       "      <td>0</td>\n",
       "      <td>0</td>\n",
       "      <td>373450</td>\n",
       "      <td>8.0500</td>\n",
       "      <td>NaN</td>\n",
       "      <td>S</td>\n",
       "    </tr>\n",
       "    <tr>\n",
       "      <th>5</th>\n",
       "      <td>6</td>\n",
       "      <td>0</td>\n",
       "      <td>3</td>\n",
       "      <td>Moran, Mr. James</td>\n",
       "      <td>male</td>\n",
       "      <td>NaN</td>\n",
       "      <td>0</td>\n",
       "      <td>0</td>\n",
       "      <td>330877</td>\n",
       "      <td>8.4583</td>\n",
       "      <td>NaN</td>\n",
       "      <td>Q</td>\n",
       "    </tr>\n",
       "  </tbody>\n",
       "</table>\n",
       "</div>"
      ]
     },
     "metadata": {},
     "execution_count": 4
    }
   ],
   "metadata": {}
  },
  {
   "cell_type": "code",
   "execution_count": 5,
   "source": [
    "df.tail(3) #뒤에서 3개\r\n",
    "df[4:7] #중간\r\n",
    "df1 = pd.DataFrame(df, columns=['Survived','Age']) #특정 열만 선택해서 표 다시 만들기 1\r\n",
    "df2 = df.loc[:5, ['Survived', 'Fare','Age']] #특정 열만 선택해서 표 다시 만들기 2\r\n",
    "df.iloc[1:3,2:5] # 1~2번째행, 2~4번째열\r\n",
    "df2[:2]"
   ],
   "outputs": [
    {
     "output_type": "execute_result",
     "data": {
      "text/plain": [
       "     PassengerId  Survived  Pclass                                      Name  \\\n",
       "888          889         0       3  Johnston, Miss. Catherine Helen \"Carrie\"   \n",
       "889          890         1       1                     Behr, Mr. Karl Howell   \n",
       "890          891         0       3                       Dooley, Mr. Patrick   \n",
       "\n",
       "        Sex   Age  SibSp  Parch      Ticket   Fare Cabin Embarked  \n",
       "888  female   NaN      1      2  W./C. 6607  23.45   NaN        S  \n",
       "889    male  26.0      0      0      111369  30.00  C148        C  \n",
       "890    male  32.0      0      0      370376   7.75   NaN        Q  "
      ],
      "text/html": [
       "<div>\n",
       "<style scoped>\n",
       "    .dataframe tbody tr th:only-of-type {\n",
       "        vertical-align: middle;\n",
       "    }\n",
       "\n",
       "    .dataframe tbody tr th {\n",
       "        vertical-align: top;\n",
       "    }\n",
       "\n",
       "    .dataframe thead th {\n",
       "        text-align: right;\n",
       "    }\n",
       "</style>\n",
       "<table border=\"1\" class=\"dataframe\">\n",
       "  <thead>\n",
       "    <tr style=\"text-align: right;\">\n",
       "      <th></th>\n",
       "      <th>PassengerId</th>\n",
       "      <th>Survived</th>\n",
       "      <th>Pclass</th>\n",
       "      <th>Name</th>\n",
       "      <th>Sex</th>\n",
       "      <th>Age</th>\n",
       "      <th>SibSp</th>\n",
       "      <th>Parch</th>\n",
       "      <th>Ticket</th>\n",
       "      <th>Fare</th>\n",
       "      <th>Cabin</th>\n",
       "      <th>Embarked</th>\n",
       "    </tr>\n",
       "  </thead>\n",
       "  <tbody>\n",
       "    <tr>\n",
       "      <th>888</th>\n",
       "      <td>889</td>\n",
       "      <td>0</td>\n",
       "      <td>3</td>\n",
       "      <td>Johnston, Miss. Catherine Helen \"Carrie\"</td>\n",
       "      <td>female</td>\n",
       "      <td>NaN</td>\n",
       "      <td>1</td>\n",
       "      <td>2</td>\n",
       "      <td>W./C. 6607</td>\n",
       "      <td>23.45</td>\n",
       "      <td>NaN</td>\n",
       "      <td>S</td>\n",
       "    </tr>\n",
       "    <tr>\n",
       "      <th>889</th>\n",
       "      <td>890</td>\n",
       "      <td>1</td>\n",
       "      <td>1</td>\n",
       "      <td>Behr, Mr. Karl Howell</td>\n",
       "      <td>male</td>\n",
       "      <td>26.0</td>\n",
       "      <td>0</td>\n",
       "      <td>0</td>\n",
       "      <td>111369</td>\n",
       "      <td>30.00</td>\n",
       "      <td>C148</td>\n",
       "      <td>C</td>\n",
       "    </tr>\n",
       "    <tr>\n",
       "      <th>890</th>\n",
       "      <td>891</td>\n",
       "      <td>0</td>\n",
       "      <td>3</td>\n",
       "      <td>Dooley, Mr. Patrick</td>\n",
       "      <td>male</td>\n",
       "      <td>32.0</td>\n",
       "      <td>0</td>\n",
       "      <td>0</td>\n",
       "      <td>370376</td>\n",
       "      <td>7.75</td>\n",
       "      <td>NaN</td>\n",
       "      <td>Q</td>\n",
       "    </tr>\n",
       "  </tbody>\n",
       "</table>\n",
       "</div>"
      ]
     },
     "metadata": {},
     "execution_count": 5
    },
    {
     "output_type": "execute_result",
     "data": {
      "text/plain": [
       "   PassengerId  Survived  Pclass                      Name   Sex   Age  SibSp  \\\n",
       "4            5         0       3  Allen, Mr. William Henry  male  35.0      0   \n",
       "5            6         0       3          Moran, Mr. James  male   NaN      0   \n",
       "6            7         0       1   McCarthy, Mr. Timothy J  male  54.0      0   \n",
       "\n",
       "   Parch  Ticket     Fare Cabin Embarked  \n",
       "4      0  373450   8.0500   NaN        S  \n",
       "5      0  330877   8.4583   NaN        Q  \n",
       "6      0   17463  51.8625   E46        S  "
      ],
      "text/html": [
       "<div>\n",
       "<style scoped>\n",
       "    .dataframe tbody tr th:only-of-type {\n",
       "        vertical-align: middle;\n",
       "    }\n",
       "\n",
       "    .dataframe tbody tr th {\n",
       "        vertical-align: top;\n",
       "    }\n",
       "\n",
       "    .dataframe thead th {\n",
       "        text-align: right;\n",
       "    }\n",
       "</style>\n",
       "<table border=\"1\" class=\"dataframe\">\n",
       "  <thead>\n",
       "    <tr style=\"text-align: right;\">\n",
       "      <th></th>\n",
       "      <th>PassengerId</th>\n",
       "      <th>Survived</th>\n",
       "      <th>Pclass</th>\n",
       "      <th>Name</th>\n",
       "      <th>Sex</th>\n",
       "      <th>Age</th>\n",
       "      <th>SibSp</th>\n",
       "      <th>Parch</th>\n",
       "      <th>Ticket</th>\n",
       "      <th>Fare</th>\n",
       "      <th>Cabin</th>\n",
       "      <th>Embarked</th>\n",
       "    </tr>\n",
       "  </thead>\n",
       "  <tbody>\n",
       "    <tr>\n",
       "      <th>4</th>\n",
       "      <td>5</td>\n",
       "      <td>0</td>\n",
       "      <td>3</td>\n",
       "      <td>Allen, Mr. William Henry</td>\n",
       "      <td>male</td>\n",
       "      <td>35.0</td>\n",
       "      <td>0</td>\n",
       "      <td>0</td>\n",
       "      <td>373450</td>\n",
       "      <td>8.0500</td>\n",
       "      <td>NaN</td>\n",
       "      <td>S</td>\n",
       "    </tr>\n",
       "    <tr>\n",
       "      <th>5</th>\n",
       "      <td>6</td>\n",
       "      <td>0</td>\n",
       "      <td>3</td>\n",
       "      <td>Moran, Mr. James</td>\n",
       "      <td>male</td>\n",
       "      <td>NaN</td>\n",
       "      <td>0</td>\n",
       "      <td>0</td>\n",
       "      <td>330877</td>\n",
       "      <td>8.4583</td>\n",
       "      <td>NaN</td>\n",
       "      <td>Q</td>\n",
       "    </tr>\n",
       "    <tr>\n",
       "      <th>6</th>\n",
       "      <td>7</td>\n",
       "      <td>0</td>\n",
       "      <td>1</td>\n",
       "      <td>McCarthy, Mr. Timothy J</td>\n",
       "      <td>male</td>\n",
       "      <td>54.0</td>\n",
       "      <td>0</td>\n",
       "      <td>0</td>\n",
       "      <td>17463</td>\n",
       "      <td>51.8625</td>\n",
       "      <td>E46</td>\n",
       "      <td>S</td>\n",
       "    </tr>\n",
       "  </tbody>\n",
       "</table>\n",
       "</div>"
      ]
     },
     "metadata": {},
     "execution_count": 5
    },
    {
     "output_type": "execute_result",
     "data": {
      "text/plain": [
       "   Pclass                                               Name     Sex\n",
       "1       1  Cumings, Mrs. John Bradley (Florence Briggs Th...  female\n",
       "2       3                             Heikkinen, Miss. Laina  female"
      ],
      "text/html": [
       "<div>\n",
       "<style scoped>\n",
       "    .dataframe tbody tr th:only-of-type {\n",
       "        vertical-align: middle;\n",
       "    }\n",
       "\n",
       "    .dataframe tbody tr th {\n",
       "        vertical-align: top;\n",
       "    }\n",
       "\n",
       "    .dataframe thead th {\n",
       "        text-align: right;\n",
       "    }\n",
       "</style>\n",
       "<table border=\"1\" class=\"dataframe\">\n",
       "  <thead>\n",
       "    <tr style=\"text-align: right;\">\n",
       "      <th></th>\n",
       "      <th>Pclass</th>\n",
       "      <th>Name</th>\n",
       "      <th>Sex</th>\n",
       "    </tr>\n",
       "  </thead>\n",
       "  <tbody>\n",
       "    <tr>\n",
       "      <th>1</th>\n",
       "      <td>1</td>\n",
       "      <td>Cumings, Mrs. John Bradley (Florence Briggs Th...</td>\n",
       "      <td>female</td>\n",
       "    </tr>\n",
       "    <tr>\n",
       "      <th>2</th>\n",
       "      <td>3</td>\n",
       "      <td>Heikkinen, Miss. Laina</td>\n",
       "      <td>female</td>\n",
       "    </tr>\n",
       "  </tbody>\n",
       "</table>\n",
       "</div>"
      ]
     },
     "metadata": {},
     "execution_count": 5
    },
    {
     "output_type": "execute_result",
     "data": {
      "text/plain": [
       "   Survived     Fare   Age\n",
       "0         0   7.2500  22.0\n",
       "1         1  71.2833  38.0"
      ],
      "text/html": [
       "<div>\n",
       "<style scoped>\n",
       "    .dataframe tbody tr th:only-of-type {\n",
       "        vertical-align: middle;\n",
       "    }\n",
       "\n",
       "    .dataframe tbody tr th {\n",
       "        vertical-align: top;\n",
       "    }\n",
       "\n",
       "    .dataframe thead th {\n",
       "        text-align: right;\n",
       "    }\n",
       "</style>\n",
       "<table border=\"1\" class=\"dataframe\">\n",
       "  <thead>\n",
       "    <tr style=\"text-align: right;\">\n",
       "      <th></th>\n",
       "      <th>Survived</th>\n",
       "      <th>Fare</th>\n",
       "      <th>Age</th>\n",
       "    </tr>\n",
       "  </thead>\n",
       "  <tbody>\n",
       "    <tr>\n",
       "      <th>0</th>\n",
       "      <td>0</td>\n",
       "      <td>7.2500</td>\n",
       "      <td>22.0</td>\n",
       "    </tr>\n",
       "    <tr>\n",
       "      <th>1</th>\n",
       "      <td>1</td>\n",
       "      <td>71.2833</td>\n",
       "      <td>38.0</td>\n",
       "    </tr>\n",
       "  </tbody>\n",
       "</table>\n",
       "</div>"
      ]
     },
     "metadata": {},
     "execution_count": 5
    }
   ],
   "metadata": {}
  },
  {
   "cell_type": "code",
   "execution_count": 6,
   "source": [
    "df['Age'].fillna(df.Age.median(), inplace = True) #비어있는 값을 평균으로 채우기, inplace가 True면 df자체를 바꿈.\r\n",
    "df.head(6)"
   ],
   "outputs": [
    {
     "output_type": "execute_result",
     "data": {
      "text/plain": [
       "   PassengerId  Survived  Pclass  \\\n",
       "0            1         0       3   \n",
       "1            2         1       1   \n",
       "2            3         1       3   \n",
       "3            4         1       1   \n",
       "4            5         0       3   \n",
       "5            6         0       3   \n",
       "\n",
       "                                                Name     Sex   Age  SibSp  \\\n",
       "0                            Braund, Mr. Owen Harris    male  22.0      1   \n",
       "1  Cumings, Mrs. John Bradley (Florence Briggs Th...  female  38.0      1   \n",
       "2                             Heikkinen, Miss. Laina  female  26.0      0   \n",
       "3       Futrelle, Mrs. Jacques Heath (Lily May Peel)  female  35.0      1   \n",
       "4                           Allen, Mr. William Henry    male  35.0      0   \n",
       "5                                   Moran, Mr. James    male  28.0      0   \n",
       "\n",
       "   Parch            Ticket     Fare Cabin Embarked  \n",
       "0      0         A/5 21171   7.2500   NaN        S  \n",
       "1      0          PC 17599  71.2833   C85        C  \n",
       "2      0  STON/O2. 3101282   7.9250   NaN        S  \n",
       "3      0            113803  53.1000  C123        S  \n",
       "4      0            373450   8.0500   NaN        S  \n",
       "5      0            330877   8.4583   NaN        Q  "
      ],
      "text/html": [
       "<div>\n",
       "<style scoped>\n",
       "    .dataframe tbody tr th:only-of-type {\n",
       "        vertical-align: middle;\n",
       "    }\n",
       "\n",
       "    .dataframe tbody tr th {\n",
       "        vertical-align: top;\n",
       "    }\n",
       "\n",
       "    .dataframe thead th {\n",
       "        text-align: right;\n",
       "    }\n",
       "</style>\n",
       "<table border=\"1\" class=\"dataframe\">\n",
       "  <thead>\n",
       "    <tr style=\"text-align: right;\">\n",
       "      <th></th>\n",
       "      <th>PassengerId</th>\n",
       "      <th>Survived</th>\n",
       "      <th>Pclass</th>\n",
       "      <th>Name</th>\n",
       "      <th>Sex</th>\n",
       "      <th>Age</th>\n",
       "      <th>SibSp</th>\n",
       "      <th>Parch</th>\n",
       "      <th>Ticket</th>\n",
       "      <th>Fare</th>\n",
       "      <th>Cabin</th>\n",
       "      <th>Embarked</th>\n",
       "    </tr>\n",
       "  </thead>\n",
       "  <tbody>\n",
       "    <tr>\n",
       "      <th>0</th>\n",
       "      <td>1</td>\n",
       "      <td>0</td>\n",
       "      <td>3</td>\n",
       "      <td>Braund, Mr. Owen Harris</td>\n",
       "      <td>male</td>\n",
       "      <td>22.0</td>\n",
       "      <td>1</td>\n",
       "      <td>0</td>\n",
       "      <td>A/5 21171</td>\n",
       "      <td>7.2500</td>\n",
       "      <td>NaN</td>\n",
       "      <td>S</td>\n",
       "    </tr>\n",
       "    <tr>\n",
       "      <th>1</th>\n",
       "      <td>2</td>\n",
       "      <td>1</td>\n",
       "      <td>1</td>\n",
       "      <td>Cumings, Mrs. John Bradley (Florence Briggs Th...</td>\n",
       "      <td>female</td>\n",
       "      <td>38.0</td>\n",
       "      <td>1</td>\n",
       "      <td>0</td>\n",
       "      <td>PC 17599</td>\n",
       "      <td>71.2833</td>\n",
       "      <td>C85</td>\n",
       "      <td>C</td>\n",
       "    </tr>\n",
       "    <tr>\n",
       "      <th>2</th>\n",
       "      <td>3</td>\n",
       "      <td>1</td>\n",
       "      <td>3</td>\n",
       "      <td>Heikkinen, Miss. Laina</td>\n",
       "      <td>female</td>\n",
       "      <td>26.0</td>\n",
       "      <td>0</td>\n",
       "      <td>0</td>\n",
       "      <td>STON/O2. 3101282</td>\n",
       "      <td>7.9250</td>\n",
       "      <td>NaN</td>\n",
       "      <td>S</td>\n",
       "    </tr>\n",
       "    <tr>\n",
       "      <th>3</th>\n",
       "      <td>4</td>\n",
       "      <td>1</td>\n",
       "      <td>1</td>\n",
       "      <td>Futrelle, Mrs. Jacques Heath (Lily May Peel)</td>\n",
       "      <td>female</td>\n",
       "      <td>35.0</td>\n",
       "      <td>1</td>\n",
       "      <td>0</td>\n",
       "      <td>113803</td>\n",
       "      <td>53.1000</td>\n",
       "      <td>C123</td>\n",
       "      <td>S</td>\n",
       "    </tr>\n",
       "    <tr>\n",
       "      <th>4</th>\n",
       "      <td>5</td>\n",
       "      <td>0</td>\n",
       "      <td>3</td>\n",
       "      <td>Allen, Mr. William Henry</td>\n",
       "      <td>male</td>\n",
       "      <td>35.0</td>\n",
       "      <td>0</td>\n",
       "      <td>0</td>\n",
       "      <td>373450</td>\n",
       "      <td>8.0500</td>\n",
       "      <td>NaN</td>\n",
       "      <td>S</td>\n",
       "    </tr>\n",
       "    <tr>\n",
       "      <th>5</th>\n",
       "      <td>6</td>\n",
       "      <td>0</td>\n",
       "      <td>3</td>\n",
       "      <td>Moran, Mr. James</td>\n",
       "      <td>male</td>\n",
       "      <td>28.0</td>\n",
       "      <td>0</td>\n",
       "      <td>0</td>\n",
       "      <td>330877</td>\n",
       "      <td>8.4583</td>\n",
       "      <td>NaN</td>\n",
       "      <td>Q</td>\n",
       "    </tr>\n",
       "  </tbody>\n",
       "</table>\n",
       "</div>"
      ]
     },
     "metadata": {},
     "execution_count": 6
    }
   ],
   "metadata": {}
  },
  {
   "cell_type": "code",
   "execution_count": 7,
   "source": [
    "plt.figure()\r\n",
    "df['Age'].hist(bins=16) #히스토그램, bins는 막대 갯수."
   ],
   "outputs": [
    {
     "output_type": "execute_result",
     "data": {
      "text/plain": [
       "<Figure size 432x288 with 0 Axes>"
      ]
     },
     "metadata": {},
     "execution_count": 7
    },
    {
     "output_type": "execute_result",
     "data": {
      "text/plain": [
       "<AxesSubplot:>"
      ]
     },
     "metadata": {},
     "execution_count": 7
    },
    {
     "output_type": "display_data",
     "data": {
      "text/plain": [
       "<Figure size 432x288 with 1 Axes>"
      ],
      "image/png": "[encoded data removed]"
     },
     "metadata": {
      "needs_background": "light"
     }
    }
   ],
   "metadata": {}
  },
  {
   "cell_type": "markdown",
   "source": [
    "## 그 밖의 다양한 그래프 그리는 방법\r\n",
    "\r\n",
    "- 그래프 그리는 캔버스 만들어주기\r\n",
    "\r\n",
    "import matplotlib.pyplot as plt\r\n",
    "plt.figure()\r\n",
    "\r\n",
    "- 표 형태 골라서 그리기\r\n",
    "\r\n",
    "표이름.plot(kind='표형태')\r\n",
    "\r\n",
    "- 세로/가로 막대 그래프, 축적 그래프\r\n",
    "\r\n",
    "표이름.plot.bar()\r\n",
    "표이름.plot.barh()\r\n",
    "표이름.plot.bar(stacked=True)\r\n",
    "표이름.plot.barh(stacked=True)\r\n",
    "\r\n",
    "- 산점도\r\n",
    "\r\n",
    "표이름.plot.scatter(x='열1', y='열2', color='색깔이름|RGB', label='라벨이름')\r\n",
    "\r\n",
    "* 그 밖의 그래프 그리는 방법(pandas 메뉴얼 사이트)\r\n",
    "  \r\n",
    "https://pandas.pydata.org/pandas-docs/stable/user_guide/visualization.html\r\n",
    "\r\n",
    "* 연습용 데이터 구하기\r\n",
    "\r\n",
    "https://www.kaggle.com/\r\n"
   ],
   "metadata": {}
  },
  {
   "cell_type": "markdown",
   "source": [
    "##  mask-use-by-county.csv 표로 실습해보기\r\n",
    "\r\n",
    "뉴욕타임즈가 250000명 미국인 대상 군별(주 아래의 행정구역) 응답비율 36%로\r\n",
    "\r\n",
    "\"다른사람과 6피트 이내에 있을 것으로 예상되는 경우 공공장소에서 마스크를 얼마나 자주 착용합니까?\"에 대한 응답 결과."
   ],
   "metadata": {}
  },
  {
   "cell_type": "markdown",
   "source": [
    "# 2. 확률의 기초\n",
    "## 2.0. 용어들\n",
    "- 확률, 이산확률 변수, 연속확률 변수\n",
    "- 확률분포: 확률밀도 함수, 확률질량 함수\n",
    "- 모집단, 표본\n",
    "- 모수(parameter): 모집단의 특성을 나타내는 값\n",
    "- 평균, 분산, 표준편차, 공분산 등\n",
    "\n",
    "## 2.1. 정규분포\n",
    "\n",
    "$N(m,\\sigma ^2 )$\n",
    "\n",
    "$f(x) = \\frac{1} {\\sqrt{2 \\pi \\sigma ^2}} e^{\\frac{-(x-m)^2}{2 \\sigma ^2}}$"
   ],
   "metadata": {}
  },
  {
   "cell_type": "code",
   "execution_count": 8,
   "source": [
    "# -*- coding: utf-8 -*-\r\n",
    "import scipy.stats\r\n",
    "from scipy.stats import norm  # normal distribution, 정규분포\r\n",
    "\r\n",
    "m = 5   # 평균\r\n",
    "std = 2 # 표준편차\r\n",
    "x = np.arange( -5, 15, 0.01)\r\n",
    "y = norm.pdf(x, loc=m, scale=std) \r\n",
    "#pdf（probability density function)\r\n",
    "#y = (1 / np.sqrt(2 * np.pi * std*std ) ) * np.exp(-(x-m) ** 2 / (2 * std*std) ) 정규분포의 식에 대입\r\n",
    "\r\n",
    "fig = plt.subplots(figsize=(8,3))\r\n",
    "plt.plot(x,y)\r\n",
    "plt.xlabel('x')\r\n",
    "plt.ylabel('probabiity density')\r\n",
    "plt.plot(x,y)"
   ],
   "outputs": [
    {
     "output_type": "execute_result",
     "data": {
      "text/plain": [
       "[<matplotlib.lines.Line2D at 0x1d436d3c8b0>]"
      ]
     },
     "metadata": {},
     "execution_count": 8
    },
    {
     "output_type": "execute_result",
     "data": {
      "text/plain": [
       "Text(0.5, 0, 'x')"
      ]
     },
     "metadata": {},
     "execution_count": 8
    },
    {
     "output_type": "execute_result",
     "data": {
      "text/plain": [
       "Text(0, 0.5, 'probabiity density')"
      ]
     },
     "metadata": {},
     "execution_count": 8
    },
    {
     "output_type": "execute_result",
     "data": {
      "text/plain": [
       "[<matplotlib.lines.Line2D at 0x1d436d3cd00>]"
      ]
     },
     "metadata": {},
     "execution_count": 8
    },
    {
     "output_type": "display_data",
     "data": {
      "text/plain": [
       "<Figure size 576x216 with 1 Axes>"
      ],
      "image/png": "[encoded data removed]"
     },
     "metadata": {
      "needs_background": "light"
     }
    }
   ],
   "metadata": {}
  },
  {
   "cell_type": "markdown",
   "source": [
    "### 2.1.1. 표준 정규 분포\n",
    "\n",
    "$z=\\frac{x-m}{\\sigma}$\n",
    "\n",
    "$N(0,1)$\n",
    "\n",
    "- norm.ppf($\\alpha$) : $P(z < k)= \\alpha$ 인 $k$를 구해준다.\n",
    "- norm.isf($\\alpha$) : $P(k < z)= \\alpha$ 인 구간 $(-k, k)$를 구해준다.\n",
    "- norm.interval($\\alpha$) : $P(|z| < k)= \\alpha$ 인 $k$를 구해준다.\n",
    "- norm.cdf($k$) : $P(z < k)$ 의 값을 구해준다."
   ],
   "metadata": {}
  },
  {
   "cell_type": "code",
   "execution_count": 9,
   "source": [
    "m = 0\r\n",
    "std = 1\r\n",
    "alpha = 0.05\r\n",
    "prob = 1 - alpha\r\n",
    "z_0 = norm.ppf(prob, loc=m, scale=std)\r\n",
    "z_1 = norm.isf(alpha, loc=m, scale=std)\r\n",
    "p_0 = norm.cdf(z_0, loc=m, scale=std)\r\n",
    "p_1 = norm.interval(0.95, loc=m, scale=std)\r\n",
    "print('percent point =', z_0)\r\n",
    "print('percent point =', z_1)\r\n",
    "print('p=',p_0)\r\n",
    "print('p=',p_1)\r\n"
   ],
   "outputs": [
    {
     "output_type": "stream",
     "name": "stdout",
     "text": [
      "percent point = 1.6448536269514722\n",
      "percent point = 1.6448536269514729\n",
      "p= 0.95\n",
      "p= (-1.959963984540054, 1.959963984540054)\n"
     ]
    }
   ],
   "metadata": {}
  },
  {
   "cell_type": "code",
   "execution_count": null,
   "source": [],
   "outputs": [],
   "metadata": {}
  },
  {
   "cell_type": "markdown",
   "source": [
    "### 2.1.2. 중심극한정리\r\n",
    "\r\n",
    "표본 $x_1, x_2, \\cdots , x_n$ 평균 $m$, 표준편차 $\\sigma$ 인 확률분포를 따른다고 할 때\r\n",
    "\r\n",
    "표본 평균을 확률 변수로 하는 $\\bar{X}$는 표본의 크기 $n$이 커짐에 따라 평균 $m$, 표준편차 $\\frac{\\sigma}{\\sqrt{n}}$ 인 정규분포에 가까워진다.\r\n",
    "\r\n",
    "어떤 확률분포를 가지고 있든지 간에 표본 평균에 대한 확률분포(표본의 분포)가 정규분포에 가까워진다는 것."
   ],
   "metadata": {}
  },
  {
   "cell_type": "code",
   "execution_count": 22,
   "source": [
    "import matplotlib.animation as animation\r\n",
    "\r\n",
    "N = 2000\r\n",
    "y= np.zeros(N)\r\n",
    "for n in [1,5,500]:\r\n",
    "    for i in range(N): #N번 반복\r\n",
    "        x = scipy.stats.uniform.rvs(size=n) #[0,1]구간에서 균일하고 랜덤하게 n개의 변수를 뽑는다.(평균1/2, 표준편차 1/root(12))\r\n",
    "        y[i] = (x.mean() - 1/2)/(np.sqrt(1/12)/np.sqrt(n)) #각각의 값 표준화 후 y에 저장\r\n",
    "    fig = plt.hist(y, bins=20, range=(-4,4), density=True, alpha=0.3) #히스토그램 그리기\r\n",
    "xx = np.arange(-4, 4, 0.01) #정규분포 x축\r\n",
    "nrm = scipy.stats.norm.pdf(xx, loc=0.0, scale=1.0 ) #정규분포 y값\r\n",
    "plt.plot(xx, nrm, c='k') #정규분포 그리기\r\n",
    "plt.show()"
   ],
   "outputs": [
    {
     "output_type": "execute_result",
     "data": {
      "text/plain": [
       "[<matplotlib.lines.Line2D at 0x1d436d74c40>]"
      ]
     },
     "metadata": {},
     "execution_count": 22
    },
    {
     "output_type": "display_data",
     "data": {
      "text/plain": [
       "<Figure size 432x288 with 1 Axes>"
      ],
      "image/png": "[encoded data removed]"
     },
     "metadata": {
      "needs_background": "light"
     }
    }
   ],
   "metadata": {}
  },
  {
   "cell_type": "markdown",
   "source": [
    "## 2.2. 다양한 확률분포(이산확률분포)\n",
    "\n",
    "### 2.2.1. 베르누이 분포(0또는 1번 시행)\n",
    "\n",
    "1. 시행의 결과는 성공 혹은 실패만(성공확률 p, 실패확률 1-p)\n",
    "2. 각 시행은 독립(서로 영향을 미치지 않음)\n",
    "3. 성공 확률은 항상 일정\n",
    "\n",
    "scipy.stats.bernoulli\n",
    "\n",
    "### 2.2.2. 이항 분포(n번의 시행횟수)\n",
    "\n",
    "1. 해당 사건의 발생 여부를 확률로\n",
    "2. 각 시행은 독립\n",
    "3. 각 사건이 발생하는 확률은 p로 일정\n",
    "\n",
    "$E(x)=np, V(x)=npq$\n",
    "\n",
    "scipy.stats.bionom\n",
    "\n",
    "예시: 동전 던지기, 주사위에서 특정 수가 나오는 사건."
   ],
   "metadata": {}
  },
  {
   "cell_type": "markdown",
   "source": [
    "### 2.2.3. 포아송 분포\n",
    "\n",
    "시간 t 내에서 평균 $\\lambda$ 번 발생하는 사건이 $k$번 일어날 확률이면서 아래의 조건을 따를 때 갖는 분포.\n",
    "\n",
    "1. 각 시행은 독립\n",
    "2. 사건이 일어날 확률은 어느 시간대나 동일\n",
    "3. 매우 짧은 시간동안 사건이 두 번 일어날 확률은 매우 작다.\n",
    "\n",
    "$P(X=k) = \\exp (-\\lambda t) \\frac{(\\lambda t)^k}{k !}$\n",
    "\n",
    "$E(x)=\\lambda, V(x)=\\lambda$\n",
    "\n",
    "예시: 교통사고, 하루에 받는 카톡의 수, FIFA 리그의 득점 등."
   ],
   "metadata": {}
  },
  {
   "cell_type": "code",
   "execution_count": null,
   "source": [
    "from scipy.stats import poisson #포아송 분포 가져오기\r\n",
    "\r\n",
    "fig = plt.subplots(figsize=(8,4))\r\n",
    "k = np.arange(0,16)\r\n",
    "\r\n",
    "for lamb in range(1,6):\r\n",
    "    p = poisson.pmf(k, lamb)\r\n",
    "    plt.plot(k, p, label='lambda='+str(lamb))\r\n",
    "\r\n",
    "plt.xlabel('k')\r\n",
    "plt.ylabel('Probability mass function')\r\n",
    "plt.legend()    #범례 표시하기\r\n",
    "plt.show()"
   ],
   "outputs": [
    {
     "output_type": "display_data",
     "data": {
      "text/plain": [
       "<Figure size 576x288 with 1 Axes>"
      ],
      "image/png": "[encoded data removed]"
     },
     "metadata": {
      "needs_background": "light"
     }
    }
   ],
   "metadata": {}
  },
  {
   "cell_type": "markdown",
   "source": [
    "예시1: 교통사고 평균 2.4건／일의 경우，교통사고가 2건/일이 되는 확률"
   ],
   "metadata": {}
  },
  {
   "cell_type": "code",
   "execution_count": null,
   "source": [
    "_lambda = 2.4\r\n",
    "psum = 0\r\n",
    "for k in [0,1,2]:\r\n",
    "    p = poisson.pmf(k, mu=_lambda)\r\n",
    "    psum = psum + p\r\n",
    "print('sum of p =',psum)"
   ],
   "outputs": [
    {
     "output_type": "stream",
     "name": "stdout",
     "text": [
      "sum of p = 0.5697087466575105\n"
     ]
    }
   ],
   "metadata": {}
  },
  {
   "cell_type": "markdown",
   "source": [
    "예시2: 한 축구 리그에서 A팀의 시합당 평균 득점 1, B팀의 시합당 평균 득점 2 일때 A팀이 2:1로 이길 확률\n",
    "\n",
    "이기는 케이스를 모두 구해서 더하면 이 경우 A팀이 이길 확률이 18.2%, 무승부일 확률 39.4%임을 알 수 있다.\n",
    "\n",
    "득점력이 2배 차이나도 야구와 같이 득점력의 점수차가 큰 경우(평균3: 평균6) 이길확률과 무승부일 확률이 훨씬 낮아진다."
   ],
   "metadata": {}
  },
  {
   "cell_type": "code",
   "execution_count": null,
   "source": [
    "print(poisson.pmf(2, mu=1) * poisson.pmf(1, mu=2))"
   ],
   "outputs": [
    {
     "output_type": "stream",
     "name": "stdout",
     "text": [
      "0.04978706836786394\n"
     ]
    }
   ],
   "metadata": {}
  },
  {
   "cell_type": "markdown",
   "source": [
    "### 2.2.4. 카이제곱($\\chi ^2$) 분포\n",
    "\n",
    "표준정규분포를 따르는 서로 다른 변수들을 제곱해 더한 값을 새로운 확률 변수로 하는 분포.\n",
    "\n",
    "가설, 신뢰구간 검정(카이제곱 검정, 프리드만 검정)에 사용.\n",
    "\n",
    "scipy.stats.chi2\n",
    "\n",
    "### 2.2.5. 지수 분포\n",
    "\n",
    "편의점에 손님이 오는 시간 간격, 쇼크 후 사망할 때까지의 시간 간격 등 어떤 현상이 일어나는 주기의 확률.\n",
    "\n",
    "포아송 분포와 같이 사용됨.\n",
    "\n",
    "scipy.stats.expon\n",
    "\n",
    "### 2.2.6. $F$ 분포\n",
    "\n",
    "카이제곱 분포를 따르는 서로 독립인 두 변수의 비가 따르는 분포.\n",
    "\n",
    "scipy.stats.f\n",
    "\n",
    "### 2.2.7. t 분포\n",
    "\n",
    "검정에서 모분산을 알지 못할 때 사용되는 분포.\n",
    "\n",
    "좌우 대칭인 분포형태. 자유도 값이 커질수록 정규분포에 가까워진다.\n",
    "\n",
    "scipy.stats.t\n",
    "\n",
    "### 2.2.8. 균일 분포\n",
    "\n",
    "상수 함수와 같은 분포. \n",
    "\n",
    "난수 발생, 전차 대기시간."
   ],
   "metadata": {}
  },
  {
   "cell_type": "markdown",
   "source": [
    "# 3. 통계의 기초\n",
    "\n",
    "- 통계: 표본을 조사하여 모집단의 모수를 추정하고 검정하는 것.\n",
    "- 모집단의 특징을 나타내는 값(모수): 모평균, 모분산 등\n",
    "- 표본: 모집단에서 추출한 $N$ 개의 데이터(N을 표본수(샘플수))\n",
    "- 통계량: 표본으로부터 계산된 수치(표본평균, 표본분산, 표본표준편차)\n",
    "\n",
    "## 3.1. 통계적 추정\n",
    "\n",
    "- 표본으로 얻어진 통계량으로 모수가 존재하는 범위를 구하는 것\n",
    "\n",
    "### 3.1.1. 점추정\n",
    "\n",
    "- 모집단의 모수를 하나의 값으로 추정하는 방법."
   ],
   "metadata": {}
  },
  {
   "cell_type": "markdown",
   "source": [
    "### 3.1.2. 구간추정\n",
    "\n",
    "- 표본평균이나 표본분산이 모평균이나 모분산이 어느정도 확률로 해당 분포의 구간에 들어가는지 추정하는 것.\n",
    "- 신뢰구간: 해당 분포의 구간\n",
    "- 신뢰도: 해당 분포에 들어갈 확률\n",
    "#### 모분산을 아는 경우: 중심극한정리(정규분포)를 이용\n",
    "- 중심극한정리: 각 표본들이 독립이고 표본수(표본의 크기)가 클 수록 표본평균$\\hat{m}$은 $N(m, \\frac{\\sigma^2}{n})$인 정규분포에 가까워짐.(모평균$m$, 모분산$\\sigma^2$)\n",
    "\n",
    "#### 모분산을 모르는 경우: t분포를 이용\n",
    "- 표본수가 작을 경우. 모분산과 표본분산은 차이가 난다."
   ],
   "metadata": {}
  },
  {
   "cell_type": "code",
   "execution_count": null,
   "source": [
    "num = 50    #뽑은 표본의 개수\r\n",
    "N = 10      #표본수\r\n",
    "mean, std = 2, 0.5\r\n",
    "mu = np.zeros(num)\r\n",
    "\r\n",
    "for i in range(num):\r\n",
    "    mu[i] = np.mean( norm.rvs(loc=mean, scale=std, size=N) )  # 평균2, 분산 0.5를 따르는 분포에서 랜덤하게 10개 뽑기\r\n",
    "\r\n",
    "plt.hist(mu, bins=20, range=(1.5, 2.5))\r\n",
    "print(mu.mean())    #표본평균들의 평균\r\n",
    "print(mu.var())     #표본평균들의 분산\r\n",
    "print(0.5**2/N)     #분산^2 / N\r\n",
    "# 표본의 개수가 커질수록 정규분포에 가까워지는 것을 알 수 있다. (모든 경우의 수가 되면 아예 같아짐)"
   ],
   "outputs": [
    {
     "output_type": "stream",
     "name": "stdout",
     "text": [
      "2.0155842452049715\n",
      "0.02231580284978817\n",
      "0.025\n"
     ]
    },
    {
     "output_type": "display_data",
     "data": {
      "text/plain": [
       "<Figure size 432x288 with 1 Axes>"
      ],
      "image/png": "[encoded data removed]"
     },
     "metadata": {
      "needs_background": "light"
     }
    }
   ],
   "metadata": {}
  },
  {
   "cell_type": "code",
   "execution_count": null,
   "source": [
    "#모분산을 아는 경우\r\n",
    "alp = 0.99  #신뢰도 99%\r\n",
    "za, zb = norm.interval(alpha=alp, loc=0, scale=1) #신뢰구간 구하기\r\n",
    "print('신뢰도 99%: ','za=',za, ' zb=',zb)\r\n",
    "alp = 0.95  #신뢰도 95%\r\n",
    "za, zb = norm.interval(alpha=alp, loc=0, scale=1)\r\n",
    "print('신뢰도 95%: ','za=',za, ' zb=',zb)"
   ],
   "outputs": [
    {
     "output_type": "stream",
     "name": "stdout",
     "text": [
      "신뢰도 99%:  za= -2.5758293035489004  zb= 2.5758293035489004\n",
      "신뢰도 95%:  za= -1.959963984540054  zb= 1.959963984540054\n"
     ]
    }
   ],
   "metadata": {}
  },
  {
   "cell_type": "code",
   "execution_count": null,
   "source": [
    "#모분산을 모르는 경우\r\n",
    "from scipy.stats import t       #t분포 라이브러리\r\n",
    "N = 10\r\n",
    "mu_hat = 145.2\r\n",
    "std_hat = 23.7\r\n",
    "t1 = t.interval( 0.99, df=N-1)\r\n",
    "t2 = t.interval( 0.95, df=N-1)\r\n",
    "t3 = t.interval( 0.90, df=N-1)\r\n",
    "se = std_hat / np.sqrt(N)\r\n",
    "print('신뢰도 99% 구간:', mu_hat + t1[0]*se, mu_hat + t1[1]*se)\r\n",
    "print('신뢰도 95% 구간:', mu_hat + t2[0]*se, mu_hat + t2[1]*se)\r\n",
    "print('신뢰도 90% 구간:', mu_hat + t3[0]*se, mu_hat + t3[1]*se)"
   ],
   "outputs": [
    {
     "output_type": "stream",
     "name": "stdout",
     "text": [
      "신뢰도 99% 구간: 120.84378885405553 169.55621114594445\n",
      "신뢰도 95% 구간: 128.24604132892404 162.15395867107594\n",
      "신뢰도 90% 구간: 131.46155538107368 158.93844461892627\n"
     ]
    }
   ],
   "metadata": {}
  },
  {
   "cell_type": "markdown",
   "source": [
    "## 3.2. 가설검정 ★★★\r\n",
    "\r\n",
    "### 3.2.1. 가설검정이란\r\n",
    "\r\n",
    "- 어느 가설에 대해 그것이 옳은가의 여부를 통계학적으로 검증하는 수단.\r\n",
    "- 귀무가설(영가설, null hypothesis) $H_0$: CO2농도는 지구 평균 온도에 영향을 주지 않는다.\r\n",
    "- 대립가설(alternative hypothesis) $H_1$: CO2농도는 지구 평균 온도에 영향을 준다.\r\n",
    "- 어떤 검정(검증)을 통해 $H_0$가 틀렸다는 것을  알았을 때, $H_0$를 기각한다고 한다. 동시에 $H_1$은 채택된다고 한다.(귀류법과 비슷)\r\n",
    "- $H_0$를 기각하지 않았다고 해서 $H_0$가 옳다는 것을 보증해주지는 못한다. (모순이 없다고 해서 맞다고는 할 수 없다.)\r\n",
    "\r\n",
    "### 3.2.2. 가설검정의 2가지 오류\r\n",
    "\r\n",
    "1. 1종 오류: $H_0$가 옳은데 $H_0$을 기각. 필요한 데이터를 얻지 못함.(관측 실패 등)\r\n",
    "\r\n",
    "    예: CO2 농도가 지구 평균 온도에 영향을 주지 않는데 가설을 기각한 경우.\r\n",
    "\r\n",
    "2. 2종 오류: $H_1$가 옳은데 $H_0$을 기각하지 않음. 필요없는 데이터를 얻음.(노이즈 값, 관련 없는 자의적 해석 반영 등)\r\n",
    "\r\n",
    "    예: CO2 농도가 지구 평균 온도에 영향을 주지 않는데 준다는 가설을 기각하지 않은 경우.\r\n",
    "\r\n",
    "### 3.2.3. 유의수준\r\n",
    "\r\n",
    "- 가설검정시 귀무가설 기각 여부를 판정하는 기준.\r\n",
    "- 실험에서 오류가 날 확률, 우연히 일어날 확률 등을 고려해 유의수준으로 놓는다.\r\n",
    "- 유의수준(=위험률=$\\alpha$)값으로 $0.05, 0.01, 0.001$을 주로 씀.\r\n",
    "- $p<\\alpha$ 일때 귀무가설을 기각하게 된다.\r\n",
    "\r\n",
    "### 3.2.4. 단측검정, 양측검정\r\n",
    "\r\n",
    "- 귀무가설이 등호로 설정된 경우 대립가설을 세우는 방식.\r\n",
    "- 단측검정: 한 쪽 방향으로 검정.\r\n",
    "- 양측검정: 큰 지 작은지는 고려하지 않고 검정.\r\n",
    "\r\n",
    "예: 귀무가설 $\\mu = 2.0$ 일 때\r\n",
    "\r\n",
    "- 단측검정 대립가설 $\\mu>2.0$ 또는 $\\mu<2.0$ 둘 중 하나로 정함.\r\n",
    "- 양측검정 대립가설 $\\mu \\not = 2.0$\r\n",
    "\r\n",
    "### 3.2.5. 모평균의 검정(검정통계량 설정)\r\n",
    "\r\n",
    "- 앞에서 했던 신뢰도, 신뢰구간과 같다.\r\n",
    "- 모분산을 아는 경우: 정규분포를 이용한 z검정.\r\n",
    "- 모분산을 모르는 경우: t분포를 이용한 t검정.\r\n",
    "\r\n",
    "### 3.2.6. 가설 검정의 절차\r\n",
    "\r\n",
    "1. 명제를 세운다.\r\n",
    "2. 명제에 적당한 검정통계랑 선택한다.\r\n",
    "3. 귀무가설$H_0$ 대립가설$H_1$을 세운다. 기각하려는 가설을 귀무가설로.\r\n",
    "4. 유의수준 $\\alpha$를 정한다.\r\n",
    "5. 이용된 검정통계량이 나타내는 확률분포로부터 확률 $p$를 구한다.\r\n",
    "6. $p<\\alpha$ 라면 $H_0$가 일어날 확률이 충분히 작다고 판단해 $H_0$를 기각하고 $H_1$을 채택한다.\r\n",
    "7. $p>\\alpha$ 라면 $H_0$를 기각하지 않는다. 표본수, 분석 방법 등을 다시 살펴보고 재검정을 실시할지 고려한다."
   ],
   "metadata": {}
  },
  {
   "cell_type": "code",
   "execution_count": null,
   "source": [
    "# 예시 : 어느 학습，시험 평균점수와 보강의 효용성(단측검정)\r\n",
    "# 표본이 작아서 모분산을 모름: t분포 활용\r\n",
    "# 유의수준 5%\r\n",
    "# 귀무가설: 보강의 효가는 없었다. m=0\r\n",
    "# 대립가설: 보강 후 평균점수가 올랐다. m>0\r\n",
    "from scipy.stats import t\r\n",
    "\r\n",
    "data = np.array([1, -1, -2, 3, -1, 5, 4, 0, 7, -1])\r\n",
    "m = np.average(data) # 표본평균\r\n",
    "s = np.std(data, ddof=1) # 표본표준편차\r\n",
    "N = len(data)   #표본수\r\n",
    "m0 = 0  #귀무가설 값\r\n",
    "t1 = (m-m0)/(s/np.sqrt(N)) #표준화\r\n",
    "prob = t.cdf(t1,N-1) #t분포로 t검정\r\n",
    "print('p value=',1-prob)"
   ],
   "outputs": [
    {
     "output_type": "stream",
     "name": "stdout",
     "text": [
      "p value= 0.07800883831234118\n"
     ]
    }
   ],
   "metadata": {}
  },
  {
   "cell_type": "markdown",
   "source": [
    "### 3.2.7. 상관, 무상관의 검정\r\n",
    "\r\n",
    "- 상관: 2가지 데이터를 대상으로 데이터 사이에 관계를 알아보는 방법.\r\n",
    "- 상관계수: 두 데이터의 상관의 강약을 수치화 한 것. (양의 상관관계, 음의 상관관계, 무상관)\r\n",
    "- 관련의 정도를 설정할 때 얼마일 때 강한지 약한지는 주관적이어서 상관 여부를 판정하는 데 어려움이 있다.\r\n",
    "- 상관계수의 문제점을 보완하기 위해 무상관 검정을 사용한다.\r\n",
    "\r\n",
    "예시: 아버지와 아들의 키에 대한 상관 검정. (회귀 분석 용어의 시초가 된 논문)\r\n",
    " \r\n",
    " 1. 귀무가설 H_0 : 상관계수 = 0\r\n",
    " \r\n",
    " 2. 대립가설 H_1 : 상관계수 $\\not =$ 0\r\n",
    " \r\n"
   ],
   "metadata": {}
  },
  {
   "cell_type": "code",
   "execution_count": null,
   "source": [
    "from scipy import stats\r\n",
    "\r\n",
    "x = np.array([168, 172, 181, 179, 166, 185, 177, 176, 169, 161])\r\n",
    "y = np.array([111, 125, 129, 120, 126, 133, 130, 116, 118, 115])\r\n",
    "corr, pvalue = stats.pearsonr(x,y) #무상관 검정\r\n",
    "print('corr. coef.=',corr, '  p value=',pvalue)"
   ],
   "outputs": [
    {
     "output_type": "stream",
     "name": "stdout",
     "text": [
      "corr. coef.= 0.6342703173343619   p value= 0.04888299019331422\n"
     ]
    }
   ],
   "metadata": {}
  },
  {
   "cell_type": "code",
   "execution_count": null,
   "source": [
    "plt.scatter(x,y) #산점도\r\n",
    "plt.xlabel('Height of Faters')\r\n",
    "plt.ylabel('Height of Sons')"
   ],
   "outputs": [
    {
     "output_type": "execute_result",
     "data": {
      "text/plain": [
       "Text(0, 0.5, 'Height of Sons')"
      ]
     },
     "metadata": {},
     "execution_count": 68
    },
    {
     "output_type": "display_data",
     "data": {
      "text/plain": [
       "<Figure size 432x288 with 1 Axes>"
      ],
      "image/png": "[encoded data removed]"
     },
     "metadata": {
      "needs_background": "light"
     }
    }
   ],
   "metadata": {}
  },
  {
   "cell_type": "markdown",
   "source": [
    "그 밖의 모분산의 검정(카이제곱 검정), 두 표본차의 검정(예: 두 체온계의 성능 검정) 등이 있다.\n",
    "\n",
    "### 4. 회귀분석?\n",
    "\n",
    "- 통계를 이용해 미래를 예측하기.\n",
    "- 두 데이터의 관계를 함수의 형태(다항식 등)로 만들어 내는 것."
   ],
   "metadata": {}
  },
  {
   "cell_type": "markdown",
   "source": [
    "# 직접 데이터를 찾아서 가공해보자.\r\n",
    "\r\n",
    "가설 설정 -> 데이터 수집 -> 데이터 가공 -> 가설 검정 -> 시각화\r\n",
    "\r\n",
    "<https://docs.google.com/presentation/d/14mB7al6E4JD142NavkPi1cGmi9J2zTBFDAGq1stRAxY/edit?usp=sharing>\r\n",
    "\r\n",
    "데이터 노다지\r\n",
    "\r\n",
    "- 국가통계포털 <https://kosis.kr/index/index.do>\r\n",
    "- 공공데이터포털 <https://www.data.go.kr/>\r\n",
    "- 통합데이터지도 <https://www.bigdata-map.kr/>\r\n",
    "- 마이크로데이터 <https://mdis.kostat.go.kr/index.do>\r\n",
    "- 지역데이터 <https://www.localdata.go.kr/>\r\n",
    "- AI허브(인공지능 학습용 데이터) <https://aihub.or.kr/>\r\n",
    "\r\n",
    "예쁘게 꾸미기\r\n",
    "\r\n",
    "- 인공지능 툰 서비스 <https://tooning.io/template-list/home>\r\n",
    "- 미리캔버스 <https://www.miricanvas.com/>\r\n"
   ],
   "metadata": {}
  }
 ]
}