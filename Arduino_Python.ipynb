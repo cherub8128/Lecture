{
 "metadata": {
  "language_info": {
   "codemirror_mode": {
    "name": "ipython",
    "version": 3
   },
   "file_extension": ".py",
   "mimetype": "text/x-python",
   "name": "python",
   "nbconvert_exporter": "python",
   "pygments_lexer": "ipython3",
   "version": 3
  },
  "orig_nbformat": 2
 },
 "nbformat": 4,
 "nbformat_minor": 2,
 "cells": [
  {
   "source": [
    "# 1. 아두이노 센서와 파이썬 이용한 실시간 데이터 수집\n",
    "\n",
    "## 1.1. 아두이노 센서 활용하기\n",
    "\n",
    "### 1.1.1. 센서의 종류: 무궁무진. 이게 있을까? -> 있다.\n",
    "\n",
    "### 1.1.2. 좋은 센서 고르기\n",
    "1. 측정 범위\n",
    "2. 측정 단위\n",
    "3. 측정 오차: 뒤이어 배울 통계학적 지식 활용하면 유용 \n",
    "4. 측정 방식: 과학적 지식이 필요\n",
    "\n",
    "### 1.1.3. 아두이노 코드(C언어): 시리얼 통신으로 값 바로 받기, 센서 자체 라이브러리 활용, 구글 검색(구글은 프로그래머의 바이블)\n",
    "\n",
    "### 1.1.4. 아두이노에 센서 라이브러리 설치 방법: \n",
    "\n",
    "1. 스케치 → 라이브러리 포함하기 → .ZIP라이브러리 추가...\n",
    "2. 스케치 → 라이브러리 포함하기 → 라이브러리 관리 → 센서의 모델명으로 검색(부품명 아닌 영어+숫자로 된 이름)\n",
    "\n",
    "\n",
    "## 1.2. 시리얼 통신 활용하기\n",
    "\n",
    "### 1.2.1. 시리얼 통신? 비트 단위로 직렬 방식+동기식으로 통신하는 것.\n",
    "![](https://mblogthumb-phinf.pstatic.net/20150316_273/yuyyulee_1426474810330j1Qe6_PNG/serial10.png?type=w2)\n",
    "\n",
    "- 직렬방식: 한 번에 한 비트씩\n",
    "![](https://mblogthumb-phinf.pstatic.net/20150316_10/yuyyulee_1426482382462UtwR6_PNG/serial17.png?type=w2)\n",
    "\n",
    "- 동기식: 보내는 쪽과 받는 쪽이 서로 호흡(시간)을 맞춰서\n",
    "\n",
    "출처:https://m.blog.naver.com/yuyyulee/220301424499\n",
    "\n",
    "### 1.2.2. 통신 흐름\n",
    "아두이노 코드 컴파일 → 아두이노 ↔ 시리얼 통신 ↔ 파이썬 ↔ 데이터 출력 및 저장. 아두이노 제어.\n",
    "\n",
    "\n",
    "### 1.2.3. 아두이노 상의 코드\n",
    "```\n",
    "void setup() {\n",
    "\n",
    "   Serial.begin(9600);  //괄호안은 서로 맞출 시간의 단위(Baud rate라고도 함)\n",
    "\n",
    "  }\n",
    "\n",
    "  void loop() {\n",
    "\n",
    "    input = Serial.read();      //시리얼 통신으로 값을 받아서 저장하기\n",
    "\n",
    "    Serial.println(값); //값을 보내기(프린트하기)\n",
    "  }\n",
    "```\n",
    "### 1.2.4. 파이썬 상의 코드"
   ],
   "cell_type": "markdown",
   "metadata": {}
  },
  {
   "cell_type": "code",
   "execution_count": null,
   "metadata": {},
   "outputs": [],
   "source": [
    "import serial   #pySerial API 불러오기. pip install pyserial\n",
    "import time     #시간 관련 API\n",
    "\n",
    "serial1 = serial.Serial('포트이름', 9600) #Baud rate를 아두이노와 똑같이 맞춘다.\n",
    "\n",
    "if serial1.readable():          #시리얼 통신이 정상 작동중이라면\n",
    "\n",
    "    # 아두이노로 신호를 보내기(신호로 제어 가능)\n",
    "    input_value = input()\n",
    "    input_value.encode('utf-8') #아두이노가 읽을 수 있는 형태로 데이터를 변환\n",
    "    serial1.write(value)        #입력받은 값을 시리얼 통신으로 아두이노에 보낸다.\n",
    "\n",
    "    # 아두이노에서 데이터를 받아 저장\n",
    "    output_value = serial1.readline()  \n",
    "    output_value = output_value.decode() #아두이노 신호를 읽을 수 있는 형태로 해석\n",
    "    print(output_value)\n",
    "\n",
    "    # 다음 코드로 파일에 값을 저장 할 수도 있다.\n",
    "    with open(f\"{now.year}년 {now.month}월 {now.day}일.txt\",'a') as f:\n",
    "        f.write(output_value)"
   ]
  },
  {
   "source": [
    "# 2. 실제로 실습해보기\n",
    "(구매할 센서에 맞춰서 코드를 나열할 예정)"
   ],
   "cell_type": "markdown",
   "metadata": {}
  }
 ]
}