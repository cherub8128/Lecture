{
 "metadata": {
  "language_info": {
   "codemirror_mode": {
    "name": "ipython",
    "version": 3
   },
   "file_extension": ".py",
   "mimetype": "text/x-python",
   "name": "python",
   "nbconvert_exporter": "python",
   "pygments_lexer": "ipython3",
   "version": "3.9.4-final"
  },
  "orig_nbformat": 2,
  "kernelspec": {
   "name": "python394jvsc74a57bd063fd5069d213b44bf678585dea6b12cceca9941eaf7f819626cde1f2670de90d",
   "display_name": "Python 3.9.4 64-bit"
  },
  "metadata": {
   "interpreter": {
    "hash": "63fd5069d213b44bf678585dea6b12cceca9941eaf7f819626cde1f2670de90d"
   }
  }
 },
 "nbformat": 4,
 "nbformat_minor": 2,
 "cells": [
  {
   "source": [
    "1.8. 데이터"
   ],
   "cell_type": "markdown",
   "metadata": {}
  },
  {
   "cell_type": "code",
   "execution_count": null,
   "metadata": {},
   "outputs": [],
   "source": [
    "# 숫자 자료형: int(정수), float(실수-부동소수점)\n",
    "(2+3)*5\n",
    "2**5    # 거듭제곱\n",
    "7%3     # 나머지\n",
    "7//3    # 몫\n",
    "6/3     # 나누기. float로 바뀜\n",
    "\n",
    "# Bool 참/거짓\n",
    "# False : [], '', 0 (비어있는 배열, 비어있는 문자열, 숫자 0)\n",
    "True or False\n",
    "not (False and True)\n",
    "\n",
    "# 관계, 논리연산자 Relational and Logical Operators\n",
    "2<3     #True\n",
    "7>1     #True\n",
    "2<=2    #True\n",
    "4>=5    #False\n",
    "'s'=='s'#True\n",
    "2!='a'  #True\n",
    "0 and 1 #False\n",
    "[] or ''#False\n",
    "not -1  #True"
   ]
  },
  {
   "cell_type": "code",
   "execution_count": 4,
   "metadata": {},
   "outputs": [
    {
     "output_type": "execute_result",
     "data": {
      "text/plain": [
       "[1, True, 'a', 2, 3]"
      ]
     },
     "metadata": {},
     "execution_count": 4
    }
   ],
   "source": [
    "# variable 변수\n",
    "a = 1\n",
    "b, c = True, 'test'\n",
    "a += 1 # a = a + 1\n",
    "a -= 1 # a = a - 1\n",
    "\n",
    "# list 리스트\n",
    "l1 = [1, 2, True, 'a', 'b']\n",
    "l2 = [2, 3]\n",
    "l1[2]       # a l1의 3번째 원소\n",
    "l1+l2       # [1, 2, True, 'a', 'b', 2, 3] 두 리스트 연결하기\n",
    "[0]*5       # [0,0,0,0,0] 리스트 반복\n",
    "l2*2        # [2,3,2,3]\n",
    "'a' in l1   # True 리스트에 원소가 있는지 참거짓으로\n",
    "len(l1)     # 3 리스트 길이\n",
    "l1[1:3]     # [2, True] slicing 슬라이싱. list[a:b] a부터 b-1번째 원소까지 잘라서 복사해오기\n",
    "l1[:3]      # [1, 2, True]\n",
    "l1[3:]      # ['a','b']\n",
    "\n",
    "# 리스트 메서드 *method(함수)\n",
    "\n",
    "l2.append(4)        # [2, 3, 4] 원소 한 개 추가\n",
    "l1.insert(2,False)  # [1,2,False,True,'a','b'] 2번 자리에 False를 추가\n",
    "l1.pop()            # a\n",
    "\n"
   ]
  }
 ]
}